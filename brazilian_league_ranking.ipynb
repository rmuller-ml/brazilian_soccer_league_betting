{
  "nbformat": 4,
  "nbformat_minor": 0,
  "metadata": {
    "colab": {
      "provenance": [],
      "toc_visible": true
    },
    "kernelspec": {
      "name": "python3",
      "display_name": "Python 3"
    },
    "language_info": {
      "name": "python"
    }
  },
  "cells": [
    {
      "cell_type": "markdown",
      "source": [
        "# Modelling the results Brazilian soccer teams\n",
        "\n",
        "This notebook uses ~10 years of matches played in the Brazilian soccer first division. We use an online learning algorithm that can rank the teams and give predictions for future games.\n",
        "\n",
        "We use an algorithm ispired by the ELO score with some adjustements (draws, home advantage, modelling number of goals).\n",
        "\n",
        "The model is implemented in Tensorflow and data analysis is done using Pandas.\n",
        "\n",
        "The model can be a starting point for calculating betting odds."
      ],
      "metadata": {
        "id": "3rZxli_D_yS-"
      }
    },
    {
      "cell_type": "code",
      "source": [
        "import pandas as pd\n",
        "import numpy as np\n",
        "import tensorflow as tf\n",
        "from scipy.special import binom\n",
        "import matplotlib.pyplot as plt\n"
      ],
      "metadata": {
        "id": "1DcARAdREGq-"
      },
      "execution_count": 1,
      "outputs": []
    },
    {
      "cell_type": "markdown",
      "source": [
        "# Data loading, processing and analysis"
      ],
      "metadata": {
        "id": "9D8E0UTVFH31"
      }
    },
    {
      "cell_type": "code",
      "source": [
        "# Load dataset\n",
        "brasil_csv_url = 'https://www.football-data.co.uk/new/BRA.csv' \n",
        "brasil_dataset = pd.read_csv(brasil_csv_url)\n",
        "brasil_dataset.head()"
      ],
      "metadata": {
        "colab": {
          "base_uri": "https://localhost:8080/",
          "height": 305
        },
        "id": "6CZRRCLrEm4i",
        "outputId": "e4ffdd83-624c-4389-a4d2-97329ca8bd97"
      },
      "execution_count": 2,
      "outputs": [
        {
          "output_type": "execute_result",
          "data": {
            "text/plain": [
              "  Country   League  Season        Date   Time          Home         Away   HG  \\\n",
              "0  Brazil  Serie A    2012  19/05/2012  22:30     Palmeiras   Portuguesa  1.0   \n",
              "1  Brazil  Serie A    2012  19/05/2012  22:30  Sport Recife  Flamengo RJ  1.0   \n",
              "2  Brazil  Serie A    2012  20/05/2012  01:00   Figueirense      Nautico  2.0   \n",
              "3  Brazil  Serie A    2012  20/05/2012  20:00   Botafogo RJ    Sao Paulo  4.0   \n",
              "4  Brazil  Serie A    2012  20/05/2012  20:00   Corinthians   Fluminense  0.0   \n",
              "\n",
              "    AG Res    PH    PD    PA  MaxH  MaxD  MaxA  AvgH  AvgD  AvgA  \n",
              "0  1.0   D  1.75  3.86  5.25  1.76  3.87  5.31  1.69  3.50  4.90  \n",
              "1  1.0   D  2.83  3.39  2.68  2.83  3.42  2.70  2.59  3.23  2.58  \n",
              "2  1.0   H  1.60  4.04  6.72  1.67  4.05  7.22  1.59  3.67  5.64  \n",
              "3  2.0   H  2.49  3.35  3.15  2.49  3.39  3.15  2.35  3.26  2.84  \n",
              "4  1.0   A  1.96  3.53  4.41  1.96  3.53  4.41  1.89  3.33  3.89  "
            ],
            "text/html": [
              "\n",
              "  <div id=\"df-c691cac3-c095-4084-ba6b-90456d52cf2d\">\n",
              "    <div class=\"colab-df-container\">\n",
              "      <div>\n",
              "<style scoped>\n",
              "    .dataframe tbody tr th:only-of-type {\n",
              "        vertical-align: middle;\n",
              "    }\n",
              "\n",
              "    .dataframe tbody tr th {\n",
              "        vertical-align: top;\n",
              "    }\n",
              "\n",
              "    .dataframe thead th {\n",
              "        text-align: right;\n",
              "    }\n",
              "</style>\n",
              "<table border=\"1\" class=\"dataframe\">\n",
              "  <thead>\n",
              "    <tr style=\"text-align: right;\">\n",
              "      <th></th>\n",
              "      <th>Country</th>\n",
              "      <th>League</th>\n",
              "      <th>Season</th>\n",
              "      <th>Date</th>\n",
              "      <th>Time</th>\n",
              "      <th>Home</th>\n",
              "      <th>Away</th>\n",
              "      <th>HG</th>\n",
              "      <th>AG</th>\n",
              "      <th>Res</th>\n",
              "      <th>PH</th>\n",
              "      <th>PD</th>\n",
              "      <th>PA</th>\n",
              "      <th>MaxH</th>\n",
              "      <th>MaxD</th>\n",
              "      <th>MaxA</th>\n",
              "      <th>AvgH</th>\n",
              "      <th>AvgD</th>\n",
              "      <th>AvgA</th>\n",
              "    </tr>\n",
              "  </thead>\n",
              "  <tbody>\n",
              "    <tr>\n",
              "      <th>0</th>\n",
              "      <td>Brazil</td>\n",
              "      <td>Serie A</td>\n",
              "      <td>2012</td>\n",
              "      <td>19/05/2012</td>\n",
              "      <td>22:30</td>\n",
              "      <td>Palmeiras</td>\n",
              "      <td>Portuguesa</td>\n",
              "      <td>1.0</td>\n",
              "      <td>1.0</td>\n",
              "      <td>D</td>\n",
              "      <td>1.75</td>\n",
              "      <td>3.86</td>\n",
              "      <td>5.25</td>\n",
              "      <td>1.76</td>\n",
              "      <td>3.87</td>\n",
              "      <td>5.31</td>\n",
              "      <td>1.69</td>\n",
              "      <td>3.50</td>\n",
              "      <td>4.90</td>\n",
              "    </tr>\n",
              "    <tr>\n",
              "      <th>1</th>\n",
              "      <td>Brazil</td>\n",
              "      <td>Serie A</td>\n",
              "      <td>2012</td>\n",
              "      <td>19/05/2012</td>\n",
              "      <td>22:30</td>\n",
              "      <td>Sport Recife</td>\n",
              "      <td>Flamengo RJ</td>\n",
              "      <td>1.0</td>\n",
              "      <td>1.0</td>\n",
              "      <td>D</td>\n",
              "      <td>2.83</td>\n",
              "      <td>3.39</td>\n",
              "      <td>2.68</td>\n",
              "      <td>2.83</td>\n",
              "      <td>3.42</td>\n",
              "      <td>2.70</td>\n",
              "      <td>2.59</td>\n",
              "      <td>3.23</td>\n",
              "      <td>2.58</td>\n",
              "    </tr>\n",
              "    <tr>\n",
              "      <th>2</th>\n",
              "      <td>Brazil</td>\n",
              "      <td>Serie A</td>\n",
              "      <td>2012</td>\n",
              "      <td>20/05/2012</td>\n",
              "      <td>01:00</td>\n",
              "      <td>Figueirense</td>\n",
              "      <td>Nautico</td>\n",
              "      <td>2.0</td>\n",
              "      <td>1.0</td>\n",
              "      <td>H</td>\n",
              "      <td>1.60</td>\n",
              "      <td>4.04</td>\n",
              "      <td>6.72</td>\n",
              "      <td>1.67</td>\n",
              "      <td>4.05</td>\n",
              "      <td>7.22</td>\n",
              "      <td>1.59</td>\n",
              "      <td>3.67</td>\n",
              "      <td>5.64</td>\n",
              "    </tr>\n",
              "    <tr>\n",
              "      <th>3</th>\n",
              "      <td>Brazil</td>\n",
              "      <td>Serie A</td>\n",
              "      <td>2012</td>\n",
              "      <td>20/05/2012</td>\n",
              "      <td>20:00</td>\n",
              "      <td>Botafogo RJ</td>\n",
              "      <td>Sao Paulo</td>\n",
              "      <td>4.0</td>\n",
              "      <td>2.0</td>\n",
              "      <td>H</td>\n",
              "      <td>2.49</td>\n",
              "      <td>3.35</td>\n",
              "      <td>3.15</td>\n",
              "      <td>2.49</td>\n",
              "      <td>3.39</td>\n",
              "      <td>3.15</td>\n",
              "      <td>2.35</td>\n",
              "      <td>3.26</td>\n",
              "      <td>2.84</td>\n",
              "    </tr>\n",
              "    <tr>\n",
              "      <th>4</th>\n",
              "      <td>Brazil</td>\n",
              "      <td>Serie A</td>\n",
              "      <td>2012</td>\n",
              "      <td>20/05/2012</td>\n",
              "      <td>20:00</td>\n",
              "      <td>Corinthians</td>\n",
              "      <td>Fluminense</td>\n",
              "      <td>0.0</td>\n",
              "      <td>1.0</td>\n",
              "      <td>A</td>\n",
              "      <td>1.96</td>\n",
              "      <td>3.53</td>\n",
              "      <td>4.41</td>\n",
              "      <td>1.96</td>\n",
              "      <td>3.53</td>\n",
              "      <td>4.41</td>\n",
              "      <td>1.89</td>\n",
              "      <td>3.33</td>\n",
              "      <td>3.89</td>\n",
              "    </tr>\n",
              "  </tbody>\n",
              "</table>\n",
              "</div>\n",
              "      <button class=\"colab-df-convert\" onclick=\"convertToInteractive('df-c691cac3-c095-4084-ba6b-90456d52cf2d')\"\n",
              "              title=\"Convert this dataframe to an interactive table.\"\n",
              "              style=\"display:none;\">\n",
              "        \n",
              "  <svg xmlns=\"http://www.w3.org/2000/svg\" height=\"24px\"viewBox=\"0 0 24 24\"\n",
              "       width=\"24px\">\n",
              "    <path d=\"M0 0h24v24H0V0z\" fill=\"none\"/>\n",
              "    <path d=\"M18.56 5.44l.94 2.06.94-2.06 2.06-.94-2.06-.94-.94-2.06-.94 2.06-2.06.94zm-11 1L8.5 8.5l.94-2.06 2.06-.94-2.06-.94L8.5 2.5l-.94 2.06-2.06.94zm10 10l.94 2.06.94-2.06 2.06-.94-2.06-.94-.94-2.06-.94 2.06-2.06.94z\"/><path d=\"M17.41 7.96l-1.37-1.37c-.4-.4-.92-.59-1.43-.59-.52 0-1.04.2-1.43.59L10.3 9.45l-7.72 7.72c-.78.78-.78 2.05 0 2.83L4 21.41c.39.39.9.59 1.41.59.51 0 1.02-.2 1.41-.59l7.78-7.78 2.81-2.81c.8-.78.8-2.07 0-2.86zM5.41 20L4 18.59l7.72-7.72 1.47 1.35L5.41 20z\"/>\n",
              "  </svg>\n",
              "      </button>\n",
              "      \n",
              "  <style>\n",
              "    .colab-df-container {\n",
              "      display:flex;\n",
              "      flex-wrap:wrap;\n",
              "      gap: 12px;\n",
              "    }\n",
              "\n",
              "    .colab-df-convert {\n",
              "      background-color: #E8F0FE;\n",
              "      border: none;\n",
              "      border-radius: 50%;\n",
              "      cursor: pointer;\n",
              "      display: none;\n",
              "      fill: #1967D2;\n",
              "      height: 32px;\n",
              "      padding: 0 0 0 0;\n",
              "      width: 32px;\n",
              "    }\n",
              "\n",
              "    .colab-df-convert:hover {\n",
              "      background-color: #E2EBFA;\n",
              "      box-shadow: 0px 1px 2px rgba(60, 64, 67, 0.3), 0px 1px 3px 1px rgba(60, 64, 67, 0.15);\n",
              "      fill: #174EA6;\n",
              "    }\n",
              "\n",
              "    [theme=dark] .colab-df-convert {\n",
              "      background-color: #3B4455;\n",
              "      fill: #D2E3FC;\n",
              "    }\n",
              "\n",
              "    [theme=dark] .colab-df-convert:hover {\n",
              "      background-color: #434B5C;\n",
              "      box-shadow: 0px 1px 3px 1px rgba(0, 0, 0, 0.15);\n",
              "      filter: drop-shadow(0px 1px 2px rgba(0, 0, 0, 0.3));\n",
              "      fill: #FFFFFF;\n",
              "    }\n",
              "  </style>\n",
              "\n",
              "      <script>\n",
              "        const buttonEl =\n",
              "          document.querySelector('#df-c691cac3-c095-4084-ba6b-90456d52cf2d button.colab-df-convert');\n",
              "        buttonEl.style.display =\n",
              "          google.colab.kernel.accessAllowed ? 'block' : 'none';\n",
              "\n",
              "        async function convertToInteractive(key) {\n",
              "          const element = document.querySelector('#df-c691cac3-c095-4084-ba6b-90456d52cf2d');\n",
              "          const dataTable =\n",
              "            await google.colab.kernel.invokeFunction('convertToInteractive',\n",
              "                                                     [key], {});\n",
              "          if (!dataTable) return;\n",
              "\n",
              "          const docLinkHtml = 'Like what you see? Visit the ' +\n",
              "            '<a target=\"_blank\" href=https://colab.research.google.com/notebooks/data_table.ipynb>data table notebook</a>'\n",
              "            + ' to learn more about interactive tables.';\n",
              "          element.innerHTML = '';\n",
              "          dataTable['output_type'] = 'display_data';\n",
              "          await google.colab.output.renderOutput(dataTable, element);\n",
              "          const docLink = document.createElement('div');\n",
              "          docLink.innerHTML = docLinkHtml;\n",
              "          element.appendChild(docLink);\n",
              "        }\n",
              "      </script>\n",
              "    </div>\n",
              "  </div>\n",
              "  "
            ]
          },
          "metadata": {},
          "execution_count": 2
        }
      ]
    },
    {
      "cell_type": "code",
      "source": [
        "# Data cleaning\n",
        "# Filter any match without result (onne postponed match included in dataset)\n",
        "brasil_dataset = brasil_dataset[np.any(np.stack([brasil_dataset.Res==i for i in [\"A\", \"D\", \"H\"]]),0)]\n",
        "# One team has two different spellings\n",
        "brasil_dataset = brasil_dataset.replace('Athletico-PR','Atletico-PR')\n"
      ],
      "metadata": {
        "id": "C8aUjKjXJaBs"
      },
      "execution_count": 3,
      "outputs": []
    },
    {
      "cell_type": "code",
      "source": [
        "# Creating categorical features/labels\n",
        "# Results (win Home team, win Away team, draw)\n",
        "results = {'H': 0, 'A': 2, \"D\": 1}\n",
        "results_lookup = tf.lookup.StaticHashTable(tf.lookup.KeyValueTensorInitializer(list(results.keys()), list(results.values())),\n",
        "    default_value=-1)\n",
        "\n",
        "# Unique integer per club\n",
        "clubs = {club: idx for idx, club in enumerate(brasil_dataset.Home.unique())}\n",
        "clubs_lookup = tf.lookup.StaticHashTable(tf.lookup.KeyValueTensorInitializer(list(clubs.keys()), list(clubs.values())),\n",
        "    default_value=-1)\n",
        "\n",
        "# Add these new features\n",
        "def pre_process(example):\n",
        "  example['label'] = results_lookup.lookup(example['Res'])\n",
        "  example['home_club'] = clubs_lookup.lookup(example['Home'])\n",
        "  example['away_club'] = clubs_lookup.lookup(example['Away'])\n",
        "  return example"
      ],
      "metadata": {
        "id": "2rYsGGX-LvhW"
      },
      "execution_count": 4,
      "outputs": []
    },
    {
      "cell_type": "code",
      "source": [
        "#Dataset creation (note that dataset is ordered by date)\n",
        "\n",
        "brasil_dataset_dict = dict(brasil_dataset)\n",
        "full_dataset = tf.data.Dataset.from_tensor_slices(brasil_dataset_dict)\n",
        "N = brasil_dataset.shape[0]\n",
        "\n",
        "# 80% train, 20% eval\n",
        "train_dataset = full_dataset.take(np.round(N*0.8)).map(pre_process)\n",
        "eval_dataset = full_dataset.skip(np.round(N*0.8)).map(pre_process)"
      ],
      "metadata": {
        "id": "vktWjYdBD_Tc"
      },
      "execution_count": 5,
      "outputs": []
    },
    {
      "cell_type": "code",
      "source": [
        "# Some analysis\n",
        "for examples in train_dataset.batch(N):\n",
        "  base_rate_train = tf.reduce_mean(tf.one_hot(examples['label'],3),0).numpy()\n",
        "  max_goals = tf.math.maximum(tf.reduce_max(examples['HG']), tf.reduce_max(examples['AG']))\n",
        "  avg_H_goals, avg_A_goals = tf.reduce_mean(examples['HG']), tf.reduce_mean(examples['AG'])\n",
        "\n",
        "print(f\"Win/draw/loss ratio (home team): {base_rate_train}\")\n",
        "print(f\"Max goals for a team in a single match: {max_goals}\")\n",
        "print(f\"Avg goals for a home/away team: {avg_H_goals}/{avg_A_goals}\")"
      ],
      "metadata": {
        "colab": {
          "base_uri": "https://localhost:8080/"
        },
        "id": "L9RajmQhGUyM",
        "outputId": "298abfff-deb6-4374-c626-4e5a6d5fee5a"
      },
      "execution_count": 57,
      "outputs": [
        {
          "output_type": "stream",
          "name": "stdout",
          "text": [
            "Win/draw/loss ratio (home team): [0.49386778 0.26562968 0.24050254]\n",
            "Max goals for a team in a single match: 6.0\n",
            "Avg goals for a home/away team: 1.428656895004487/0.9407717618905175\n"
          ]
        }
      ]
    },
    {
      "cell_type": "markdown",
      "source": [
        "# Modelling (Win/Draw/Loss)\n",
        "\n",
        "Goal is to predict the probability of home team winning/drawing/losing the match, by knowing just its opponent. After training, we want to have a ranking of best teams and their ratings. We should be able to compute the result's probability from only the ratings of the playing teams (similar to ELO).\n",
        "\n",
        "**Base Model**\n",
        "\n",
        "The simplest model could be:\n",
        "\n",
        "$p(H \\text{ beats } A) = σ(s_H-s_A) = p$\n",
        "\n",
        "and we could train by finding the standings $s=[s_0,s_1,..,s_{K-1}]$ for all K teams by minimizing the binary cross entropy between the predicted probability and the match result represented by the binary label (win/lose) $y$.\n",
        "\n",
        "$\\text{loss}= \\sum_i -y_i\\log(p_i) - (1-y_i)\\log(1-p_i)$\n",
        "\n",
        "Unfortunately this model does not support draws.\n",
        "\n",
        "**Binomial draw model**\n",
        "\n",
        "To model draws, we can approximate a single game as a sequence of many sub-games without draws. If after a even number of sub-games, each player has the same number of wins, we consider it a draw. Now, we define *p* as the probability of winning a sub-game and *q* as the probability of win/draw/lose the game.\n",
        "\n",
        "$\\text{H beats A} => q(H) = \\sum_{k=n/2+1}^n\\begin{pmatrix}n\\\\k\\end{pmatrix}p^k(1-p)^{n-k}$\n",
        "\n",
        "$\\text{H loses to A} => q(A) = \\sum_{k=0}^{n/2-1}\\begin{pmatrix}n\\\\k\\end{pmatrix}p^k(1-p)^{n-k}$\n",
        "\n",
        "$\\text{H draws A} => q(D) = \\begin{pmatrix}n\\\\n/2\\end{pmatrix}p^{n/2}(1-p)^{n/2}$\n",
        "\n",
        "Instead of binary cross-entropy, we now use regular cross entropy\n",
        "\n",
        "$\\text{loss}= \\sum_i \\sum_{j\\text{ in }[H,D,A]} -y_i(j)\\log(q_i(j)) $\n",
        "\n",
        "where $y$ is 1 for the key containing the result.\n",
        "\n",
        "**Model with home advantage**\n",
        "\n",
        "In our dataset, the home team wins ~2X as often as it loses, so it makes sense to include this in the model in the bias term $b$.\n",
        "\n",
        "$p(H \\text{ beats } A) = σ(s_H-s_A+b) = p$\n",
        "\n",
        "**Model with scored goals**\n",
        "\n",
        "TODO"
      ],
      "metadata": {
        "id": "8eDizbxYH_w1"
      }
    },
    {
      "cell_type": "code",
      "source": [
        "# keras layer to add a bias term (home advantage)\n",
        "class AddBias(tf.keras.layers.Layer):\n",
        "\n",
        "  def __init__(self, bias_init, trainable):\n",
        "      super(AddBias, self).__init__()\n",
        "      self.bias_init = bias_init\n",
        "      self.trainable = trainable\n",
        "\n",
        "  def build(self,input_shapes=1):  \n",
        "    self.bias = tf.Variable([self.bias_init],\n",
        "        trainable=self.trainable)\n",
        "    \n",
        "  def call(self, inputs):  \n",
        "      return inputs + self.bias\n",
        "\n",
        "def get_model(bias_init = 0.0, \n",
        "              bias_trainable = True, \n",
        "              use_bias = True, \n",
        "              n_sub_games = 8):\n",
        "\n",
        "  home_club = tf.keras.Input(shape=(1))\n",
        "  away_club = tf.keras.Input(shape=(1))\n",
        "\n",
        "  # Team standings is stores as an embedding\n",
        "  club_embedding = tf.keras.layers.Embedding(\n",
        "      len(clubs),\n",
        "      1,\n",
        "      embeddings_initializer='zeros')\n",
        "  \n",
        "  # How much better (or worse) is the home team\n",
        "  logit = club_embedding(home_club) - club_embedding(away_club)\n",
        "  # Home advantage indepedent of team stading\n",
        "  if use_bias:\n",
        "    logit = AddBias(bias_init, bias_trainable)(logit)\n",
        "\n",
        "  # Sub-game win probability of the home team\n",
        "  p = tf.nn.sigmoid(logit)\n",
        "\n",
        "  # Win/draw/loss probability after \"n_sub_games\"\n",
        "  q_H = sum([binom(n_sub_games,i)*p**(i)*(1-p)**(n_sub_games-i) for i in range(n_sub_games//2+1,n_sub_games+1)])\n",
        "  q_A = sum([binom(n_sub_games,i)*p**(i)*(1-p)**(n_sub_games-i) for i in range(0,n_sub_games//2)])\n",
        "  q_D = binom(n_sub_games,n_sub_games//2)*p**(n_sub_games/2)*(1-p)**(n_sub_games/2)\n",
        "  \n",
        "  probs = tf.stack([q_H,q_D,q_A],1)\n",
        "                  \n",
        "  model = tf.keras.Model(\n",
        "      inputs={'home_club': home_club, 'away_club': away_club}, \n",
        "      outputs={'logit': logit,'probs': probs})\n",
        "\n",
        "  return model\n",
        "\n",
        "def BinomialDrawModel():\n",
        "  return get_model(use_bias=False)\n",
        "\n",
        "def BinomialDrawHomeAdvantageModel():\n",
        "  return get_model()\n",
        "\n",
        "def ResultLoss(model_output, example):\n",
        "  one_hot_label = tf.one_hot(example['label'],3)[tf.newaxis,:]\n",
        "  loss = tf.keras.losses.CategoricalCrossentropy()(\n",
        "      one_hot_label, \n",
        "      model_output['probs'])\n",
        "  return loss, loss"
      ],
      "metadata": {
        "id": "306rLt9jT3fE"
      },
      "execution_count": 7,
      "outputs": []
    },
    {
      "cell_type": "markdown",
      "source": [
        "# Online learning experiments\n",
        "\n",
        "Our dataset is a ordered (by date) sequence of games. We want to learn the standing of each team and the home advantage over time.\n",
        "\n",
        "Our model initializes the club standings to 0 and home advantage to 0. We run a single pass over the training set using SGD (stochastic gradient descent) so the model learns the standings and home advantage. There is a trade-off in the choice of learning rate. If the learning rate is too small, the model does not converge/track how teams standings change over time. If learning rate is too fast, each result may impact too much the standings making them noisy.\n",
        "\n",
        "Then, we evaluate on the remainaing 20% of games. Note that the model is still adapting in the validation set so it can continue to track teams becoming better and worse.\n",
        "\n",
        "**Metric (cross-entropy)**\n",
        "\n",
        "Our model is selected as the one with lowest cross-entropy in the validation set.\n",
        "\n",
        "**Baseline cross-entropy**\n",
        "\n",
        "To validate that the model is better than no model at all, we need to calculate the cross-entropy of a model without training. We assume that model uses the win/draw/lose rate from the train dataset (80%) and evaluate on the remaining data (20%).\n",
        "\n",
        "\n",
        "\n",
        "*   Baseline cross-entropy assuming no home advantage\n",
        "\n",
        "Model always predicts:\n",
        "\n",
        "$p(D)=0.265$\n",
        "\n",
        "$p(H)=p(A)=(1-0.265)/2$\n",
        "\n",
        "no matter the quality of the team.\n",
        "\n",
        "*   Baseline cross-entropy with home advantage\n",
        "\n",
        "Model always predicts:\n",
        "\n",
        "$p(D)=0.265$\n",
        "\n",
        "$p(H)=0.493$\n",
        "\n",
        "$p(A)=0.240$\n",
        "\n",
        "\n",
        "no matter the quality of the team.\n"
      ],
      "metadata": {
        "id": "-dIuGGTbGFMN"
      }
    },
    {
      "cell_type": "code",
      "source": [
        "def online_learning(dataset, model, learning_rate, loss_fn, return_loss = False):\n",
        "  # only one pass in the dataset ordered by date, so we can adapt team quality variation\n",
        "  optimizer = tf.keras.optimizers.SGD(learning_rate=learning_rate)\n",
        "  all_loss = []\n",
        "  \n",
        "  for example in dataset:\n",
        "      with tf.GradientTape() as tape:\n",
        "          model_output = model(example)\n",
        "          train_loss, eval_loss = loss_fn(model_output, example)\n",
        "          \n",
        "          if return_loss:\n",
        "            all_loss.append(eval_loss)\n",
        "\n",
        "      gradients = tape.gradient(train_loss, model.trainable_weights)\n",
        "      optimizer.apply_gradients(zip(gradients, model.trainable_weights))\n",
        "\n",
        "  return all_loss\n",
        "\n",
        "def online_learning_and_online_evaluation(model, learning_rate, experiment, loss_fn):\n",
        "  online_learning(train_dataset, model, learning_rate, loss_fn)\n",
        "  loss_eval = online_learning(eval_dataset, model, learning_rate, loss_fn, True)\n",
        "  result = {'loss': np.mean(loss_eval),\n",
        "            'learning_rate':learning_rate, \n",
        "            'experiment': experiment,\n",
        "            'model': model}\n",
        "  print(result) \n",
        "  return result\n"
      ],
      "metadata": {
        "id": "-ZUdovO7RAq9"
      },
      "execution_count": 8,
      "outputs": []
    },
    {
      "cell_type": "code",
      "source": [
        "# Experiment 1: Model with draws based on sub-games\n",
        "LEARNING_RATES = [0.0025,0.005,0.01,0.02,0.04]\n",
        "results = []\n",
        "experiment = 'binomial_draw_model'\n",
        "for lr in LEARNING_RATES:\n",
        "  results.append(\n",
        "      online_learning_and_online_evaluation(BinomialDrawModel(),\n",
        "                                            lr, \n",
        "                                            experiment,\n",
        "                                            ResultLoss)\n",
        "      )"
      ],
      "metadata": {
        "colab": {
          "base_uri": "https://localhost:8080/"
        },
        "id": "ddpyzapet9II",
        "outputId": "5f1226ac-db74-4ab7-b8a9-28daf00ea583"
      },
      "execution_count": 15,
      "outputs": [
        {
          "output_type": "stream",
          "name": "stdout",
          "text": [
            "{'loss': 1.0724101, 'learning_rate': 0.0025, 'experiment': 'binomial_draw_model', 'model': <keras.engine.functional.Functional object at 0x7fc38fe6bfa0>}\n",
            "{'loss': 1.0696198, 'learning_rate': 0.005, 'experiment': 'binomial_draw_model', 'model': <keras.engine.functional.Functional object at 0x7fc38fbb7220>}\n",
            "{'loss': 1.0695162, 'learning_rate': 0.01, 'experiment': 'binomial_draw_model', 'model': <keras.engine.functional.Functional object at 0x7fc38f9bed30>}\n",
            "{'loss': 1.0716571, 'learning_rate': 0.02, 'experiment': 'binomial_draw_model', 'model': <keras.engine.functional.Functional object at 0x7fc38fb92c10>}\n",
            "{'loss': 1.0830497, 'learning_rate': 0.04, 'experiment': 'binomial_draw_model', 'model': <keras.engine.functional.Functional object at 0x7fc38f7f00a0>}\n"
          ]
        }
      ]
    },
    {
      "cell_type": "code",
      "source": [
        "# Baseline cross entropy (no home advantage)\n",
        "for examples in eval_dataset.batch(N):\n",
        "  base_rate_eval = tf.reduce_mean(tf.one_hot(examples['label'],3),0).numpy()\n",
        "\n",
        "base_rate_no_home_advantage = np.array([(1-base_rate_train[1])/2, base_rate_train[1], (1-base_rate_train[1])/2])\n",
        "baseline_cross_entropy = np.sum(-base_rate_eval*np.log(base_rate_no_home_advantage))\n",
        "\n",
        "print(f\"Win/draw/loss ratio (home team) for validation: {base_rate_eval}\")\n",
        "print(f\"Win/draw/loss ratio (home team) prediction based on train base rate: {base_rate_no_home_advantage}\")\n",
        "print(f\"Baseline cross-entropy assuming no home advantage: {baseline_cross_entropy}\")"
      ],
      "metadata": {
        "colab": {
          "base_uri": "https://localhost:8080/"
        },
        "id": "lAJzqd5rL6PX",
        "outputId": "1bb05e95-ddc1-4454-edd5-64bff217a7a2"
      },
      "execution_count": 88,
      "outputs": [
        {
          "output_type": "stream",
          "name": "stdout",
          "text": [
            "Win/draw/loss ratio (home team) for validation: [0.4557416  0.28947368 0.2547847 ]\n",
            "Win/draw/loss ratio (home team) prediction based on train base rate: [0.36718516 0.26562968 0.36718516]\n",
            "Baseline cross-entropy assuming no home advantage: 1.095609927825924\n"
          ]
        }
      ]
    },
    {
      "cell_type": "code",
      "source": [
        "# Result\n",
        "filtered_results = [r for r in results if r['experiment']=='binomial_draw_model'] \n",
        "lr = [r['learning_rate'] for r in filtered_results]\n",
        "relative_cross_entropy = [(1-r['loss']/baseline_cross_entropy)*100 for r in filtered_results]\n",
        "\n",
        "plt.plot(lr, relative_cross_entropy)\n",
        "plt.xlabel('Learning rate')\n",
        "plt.ylabel('Relative cross-entropy [%]')"
      ],
      "metadata": {
        "colab": {
          "base_uri": "https://localhost:8080/",
          "height": 297
        },
        "id": "4_3fAF_COYHI",
        "outputId": "cd20ee5a-ba84-4c11-b820-207f121dd3c9"
      },
      "execution_count": 30,
      "outputs": [
        {
          "output_type": "execute_result",
          "data": {
            "text/plain": [
              "Text(0, 0.5, 'Relative cross-entropy [%]')"
            ]
          },
          "metadata": {},
          "execution_count": 30
        },
        {
          "output_type": "display_data",
          "data": {
            "text/plain": [
              "<Figure size 432x288 with 1 Axes>"
            ],
            "image/png": "[encoded data removed]"
          },
          "metadata": {
            "needs_background": "light"
          }
        }
      ]
    },
    {
      "cell_type": "code",
      "source": [
        "# Experiment 2: Model with draws based on sub-games and home advantage\n",
        "experiment = 'binomial_draw_home_advantage_model'\n",
        "for lr in LEARNING_RATES:\n",
        "  results.append(\n",
        "      online_learning_and_online_evaluation(BinomialDrawHomeAdvantageModel(),\n",
        "                                            lr, \n",
        "                                            experiment,\n",
        "                                            ResultLoss)\n",
        "      )"
      ],
      "metadata": {
        "colab": {
          "base_uri": "https://localhost:8080/"
        },
        "id": "IIjZNUlCPbtZ",
        "outputId": "956f0e4f-4c64-4c1e-dce7-1a45d06d9176"
      },
      "execution_count": 27,
      "outputs": [
        {
          "output_type": "stream",
          "name": "stderr",
          "text": [
            "/usr/local/lib/python3.8/dist-packages/keras/engine/functional.py:638: UserWarning: Input dict contained keys ['Country', 'League', 'Season', 'Date', 'Time', 'Home', 'Away', 'HG', 'AG', 'Res', 'PH', 'PD', 'PA', 'MaxH', 'MaxD', 'MaxA', 'AvgH', 'AvgD', 'AvgA', 'label'] which did not match any model input. They will be ignored by the model.\n",
            "  inputs = self._flatten_to_reference_inputs(inputs)\n"
          ]
        },
        {
          "output_type": "stream",
          "name": "stdout",
          "text": [
            "{'loss': 1.0443347, 'learning_rate': 0.0025, 'experiment': 'binomial_draw_home_advantage_model', 'model': <keras.engine.functional.Functional object at 0x7fc3a286c3a0>}\n",
            "{'loss': 1.0411006, 'learning_rate': 0.005, 'experiment': 'binomial_draw_home_advantage_model', 'model': <keras.engine.functional.Functional object at 0x7fc38fd9cb50>}\n",
            "{'loss': 1.0404531, 'learning_rate': 0.01, 'experiment': 'binomial_draw_home_advantage_model', 'model': <keras.engine.functional.Functional object at 0x7fc38fd9fa90>}\n",
            "{'loss': 1.043601, 'learning_rate': 0.02, 'experiment': 'binomial_draw_home_advantage_model', 'model': <keras.engine.functional.Functional object at 0x7fc38fd82a30>}\n",
            "{'loss': 1.061619, 'learning_rate': 0.04, 'experiment': 'binomial_draw_home_advantage_model', 'model': <keras.engine.functional.Functional object at 0x7fc38fa93af0>}\n"
          ]
        }
      ]
    },
    {
      "cell_type": "code",
      "source": [
        "# Baseline cross entropy (with home advantage)\n",
        "baseline_cross_entropy_with_home_advantage = np.sum(-base_rate_eval*np.log(base_rate_train))\n",
        "\n",
        "print(f\"Win/draw/loss ratio (home team) for validation: {base_rate_eval}\")\n",
        "print(f\"Win/draw/loss ratio (home team) prediction based on train base rate: {base_rate_train}\")\n",
        "print(f\"Cross-entropy assuming no home advantage: {baseline_cross_entropy_with_home_advantage}\")"
      ],
      "metadata": {
        "colab": {
          "base_uri": "https://localhost:8080/"
        },
        "id": "bHtjhC0xP8PB",
        "outputId": "8fdb6c17-9018-4d1c-b233-c83cebc8e85e"
      },
      "execution_count": 89,
      "outputs": [
        {
          "output_type": "stream",
          "name": "stdout",
          "text": [
            "Win/draw/loss ratio (home team) for validation: [0.4557416  0.28947368 0.2547847 ]\n",
            "Win/draw/loss ratio (home team) prediction based on train base rate: [0.49386778 0.26562968 0.24050254]\n",
            "Cross-entropy assuming no home advantage: 1.068335771560669\n"
          ]
        }
      ]
    },
    {
      "cell_type": "code",
      "source": [
        "# Result\n",
        "filtered_results = [r for r in results if r['experiment']=='binomial_draw_home_advantage_model'] \n",
        "lr = [r['learning_rate'] for r in filtered_results]\n",
        "relative_cross_entropy = [(1-r['loss']/baseline_cross_entropy)*100 for r in filtered_results]\n",
        "relative_cross_entropy_h_a = [(1-r['loss']/baseline_cross_entropy_with_home_advantage)*100 for r in filtered_results]\n",
        "\n",
        "\n",
        "plt.plot(lr, relative_cross_entropy)\n",
        "plt.plot(lr, relative_cross_entropy_h_a)\n",
        "\n",
        "plt.xlabel('Learning rate')\n",
        "plt.ylabel('Relative cross-entropy [%]')"
      ],
      "metadata": {
        "colab": {
          "base_uri": "https://localhost:8080/",
          "height": 297
        },
        "id": "FEOxEt98Vlnh",
        "outputId": "f1614323-ac0c-4356-91f1-951543841732"
      },
      "execution_count": 31,
      "outputs": [
        {
          "output_type": "execute_result",
          "data": {
            "text/plain": [
              "Text(0, 0.5, 'Relative cross-entropy [%]')"
            ]
          },
          "metadata": {},
          "execution_count": 31
        },
        {
          "output_type": "display_data",
          "data": {
            "text/plain": [
              "<Figure size 432x288 with 1 Axes>"
            ],
            "image/png": "[encoded data removed]"
          },
          "metadata": {
            "needs_background": "light"
          }
        }
      ]
    },
    {
      "cell_type": "markdown",
      "source": [
        "# Modelling (Goals, not results)\n",
        "\n",
        "Difference: predict goal difference. From PMF (probability mass function of goal difference distribution, we can infer win/draw/loss distribution).\n",
        "\n",
        "Absolute goals: predict home and away goals. With the PMF we can infer, difference PMF and win/draw/loss PMF.\n",
        "\n",
        "The advantage of modelling goals instead of results is that better teams not only will win more frequently, but also have higher average goal difference. We can use this signal to better learn each team standing.\n",
        "\n",
        "\n",
        "**Binomial model of goals scored**\n",
        "We assume each team has $n$ tries to score, and the probability of home team scoring in a given try (sub-game) is:\n",
        "\n",
        "$p(H \\text{ scores } A) = σ(s_H-s_A+b_H) = p_H$\n",
        "\n",
        "and\n",
        "\n",
        "$p(A \\text{ scores } H) = σ(-(s_H-s_A)+b_A) = p_A$\n",
        "\n",
        "thus, the probability of home team scoring $k$ goals is:\n",
        "\n",
        "$q_H(k)=\\begin{pmatrix}n\\\\k\\end{pmatrix}p_H^{k}(1-p_H)^{n-k}$\n",
        "\n",
        "snd similarly for away team.\n",
        "\n",
        "**Laplace model of goals scores**\n",
        "\n",
        "This is a more flexible distribution, where the higher the difference of standings, the higher the number os scored goals (also the higher the home advantage is). Also, we can control the variance ($\\alpha$) of the distribution.\n",
        "\n",
        "$q_H(k) = \\exp(-(s_H-s_A+b_H)*\\alpha_H)/\\sum_kq_H(k)$\n",
        "\n",
        "Softmax normalization is used to ensure distribution is a PMF.\n",
        "\n",
        "**Goals vs goal-difference**\n",
        "\n",
        "Both approaches can work and both are trained with cross-entropy.\n",
        "\n",
        "With goal difference the loss is the cross-entropy between the ground truth goal difference and the goal difference PMF output of the model. For example:\n",
        "\n",
        "$p(\\text{diff}=1) = \\sum_{k=1}^{6}q_H(k)q_A(k-1) $\n",
        "\n",
        "and probability of winning:\n",
        "\n",
        "$p(\\text{win}) = \\sum_{k=1}^{k_{max}}p(\\text{diff}=k)$\n",
        "\n",
        "When modelling the absolute number of goals, the loss is the cross-entropy of ground truth home goals and the predicted home goals PMF added to the cross-entropy of ground truth away goals and the predicted away goals PMF.\n",
        "\n"
      ],
      "metadata": {
        "id": "wNiHFKTdX9YI"
      }
    },
    {
      "cell_type": "code",
      "source": [
        "class Scale(tf.keras.layers.Layer):\n",
        "  # Multiplies input by a variable\n",
        "  def __init__(self, scale_init, trainable=True):\n",
        "      super(Scale, self).__init__()\n",
        "      self.scale_init = scale_init\n",
        "      self.trainable = trainable\n",
        "\n",
        "  def build(self,input_shapes=1):  \n",
        "    self.scale = tf.Variable([self.scale_init],\n",
        "        trainable=self.trainable)\n",
        "    \n",
        "  def call(self, inputs):  \n",
        "      return inputs * self.scale\n",
        "\n",
        "def goal_binomial(logit, n_sub_games):\n",
        "  p = tf.nn.sigmoid(logit)\n",
        "  probs_list = [binom(n_sub_games,i)*p**(i)*(1-p)**(n_sub_games-i) for i in range(n_sub_games+1)] \n",
        "  return tf.stack(probs_list,1)\n",
        "\n",
        "def goal_laplace(logit, n_sub_games):\n",
        "  scale=Scale(scale_init=0.5)\n",
        "  categorical_logit = scale(\n",
        "      -tf.math.abs(\n",
        "          logit - tf.cast(tf.linspace(0,n_sub_games,n_sub_games+1), tf.float32)\n",
        "          )\n",
        "      )  \n",
        "  return tf.nn.softmax(categorical_logit)\n",
        "\n",
        "\n",
        "def get_model_goals(n_sub_games,\n",
        "                    bias_init = [0.0,0.0], \n",
        "                    bias_trainable = True,\n",
        "                    goal_distribution = 'binomial' \n",
        "                    ):\n",
        "\n",
        "  home_club = tf.keras.Input(shape=(1))\n",
        "  away_club = tf.keras.Input(shape=(1))\n",
        "\n",
        "  # Team standings is stores as an embedding\n",
        "  club_embedding = tf.keras.layers.Embedding(\n",
        "      len(clubs),\n",
        "      1,\n",
        "      embeddings_initializer='zeros')\n",
        "  \n",
        "  # How much better (or worse) is the home team\n",
        "  logit = club_embedding(home_club) - club_embedding(away_club)\n",
        "  \n",
        "  bias_init = tf.cast(bias_init, tf.float32)\n",
        "  # Logit home team score in a sub-game\n",
        "  logit_home = AddBias(bias_init[0], bias_trainable)(logit)\n",
        "  # Logit away team score in a sub-game\n",
        "  logit_away = AddBias(bias_init[1], bias_trainable)(-logit)\n",
        "\n",
        "  if goal_distribution == 'binomial':\n",
        "    goal_distribution_fn = goal_binomial\n",
        "  if goal_distribution == 'laplace':\n",
        "    goal_distribution_fn = goal_laplace\n",
        "  \n",
        "  # Categorical variable for goals scored by home team\n",
        "  probs_home = goal_distribution_fn(logit_home, n_sub_games)\n",
        "\n",
        "  # Categorical variable for goals scored by away team\n",
        "  probs_away = goal_distribution_fn(logit_away, n_sub_games)\n",
        "\n",
        "  # Matrix with all possible score probabilities\n",
        "  scores = tf.matmul(tf.reshape(probs_home,[-1,n_sub_games+1,1]),\n",
        "                     tf.reshape(probs_away,[-1,1,n_sub_games+1]))\n",
        "  \n",
        "  # Categorical variable with score difference, for n_sub_games = 2 => [-2,-1,0,1,2]\n",
        "  probs_list = [tf.reduce_sum(tf.linalg.diag_part(scores,0,-i),keepdims=True) for i in range(-n_sub_games,n_sub_games+1)]\n",
        "  probs_goal_diff = tf.stack(probs_list, 1)\n",
        "\n",
        "  \n",
        "  # Win/draw/loss probability (goal difference positive/zero/negative)\n",
        "  probs_HDA = tf.stack([sum(probs_list[n_sub_games+1:]),\n",
        "                       probs_list[n_sub_games],\n",
        "                       sum(probs_list[:n_sub_games])], 1)\n",
        "                  \n",
        "  model = tf.keras.Model(\n",
        "      inputs={'home_club': home_club, 'away_club': away_club}, \n",
        "      outputs={'probs_home': probs_home,'probs_away':probs_away,'probs_goal_diff': probs_goal_diff, 'probs': probs_HDA})\n",
        "\n",
        "  return model\n",
        "\n",
        "\n",
        "def GoalDifferenceLoss(model_output, example, n_sub_games):\n",
        "  # Categorical 0 to 2*n_sub_games+1 (inclusive)\n",
        "  goal_difference = tf.cast(\n",
        "      example['HG']-example['AG'] + n_sub_games,\n",
        "      tf.int32)\n",
        "  one_hot_label = tf.one_hot(goal_difference, 2*n_sub_games + 1)[tf.newaxis,:]\n",
        "  # Train loss on goal difference\n",
        "  loss = tf.keras.losses.CategoricalCrossentropy()(\n",
        "      one_hot_label, \n",
        "      model_output['probs_goal_diff'])\n",
        "  \n",
        "  # Eval loss on win/draw/loss prediction\n",
        "  eval_loss = ResultLoss(model_output, example)\n",
        "  return loss, eval_loss\n",
        "\n",
        "def GoalLoss(model_output, example, n_sub_games):\n",
        "  # Categorical 0 to n_sub_games+1 (inclusive)\n",
        "  goals_home = tf.cast(example['HG'], tf.int32)\n",
        "  goals_away = tf.cast(example['AG'], tf.int32)\n",
        "  one_hot_label_H = tf.one_hot(goals_home, n_sub_games + 1)\n",
        "  one_hot_label_A = tf.one_hot(goals_away, n_sub_games + 1)\n",
        "  # Train loss on goals\n",
        "  loss = 0.5 * (tf.keras.losses.CategoricalCrossentropy()(\n",
        "      one_hot_label_H, \n",
        "      model_output['probs_home']) +\n",
        "      tf.keras.losses.CategoricalCrossentropy()(\n",
        "      one_hot_label_A, \n",
        "      model_output['probs_away']))\n",
        "  \n",
        "  # Eval loss on win/draw/loss prediction\n",
        "  eval_loss = ResultLoss(model_output, example)\n",
        "  return loss, eval_loss\n",
        "\n",
        "def BinomialGoalDifferenceModelAndLoss(n_sub_games = 6):\n",
        "  # make sure model and loss use the same n_sub_games\n",
        "  loss_fn = lambda x, y: GoalDifferenceLoss(x, y, n_sub_games)\n",
        "  model_fn = get_model_goals(n_sub_games, goal_distribution='binomial') \n",
        "  return model_fn, loss_fn\n",
        "\n",
        "def LaplaceGoalDifferenceModelAndLoss(n_sub_games = 6):\n",
        "  # make sure model and loss use the same n_sub_games\n",
        "  model_fn = get_model_goals(\n",
        "      n_sub_games, \n",
        "      bias_init=[avg_H_goals, avg_A_goals], \n",
        "      goal_distribution='laplace')\n",
        "  loss_fn = lambda x, y: GoalDifferenceLoss(x, y, n_sub_games) \n",
        "  return model_fn, loss_fn\n",
        "\n",
        "def LaplaceGoalModelAndLoss(n_sub_games = 6):\n",
        "  # make sure model and loss use the same n_sub_games\n",
        "  model_fn = get_model_goals(\n",
        "      n_sub_games, \n",
        "      bias_init=[avg_H_goals, avg_A_goals], \n",
        "      goal_distribution='laplace')\n",
        "  loss_fn = lambda x, y: GoalLoss(x, y, n_sub_games) \n",
        "  return model_fn, loss_fn"
      ],
      "metadata": {
        "id": "_rIDkHnKX8E7"
      },
      "execution_count": 67,
      "outputs": []
    },
    {
      "cell_type": "markdown",
      "source": [
        "# Experiments\n",
        "\n",
        "For modelling absolute goals, we initialize the bias of the laplace distribution to be the average number of goals scored at home/away in the training set to increase convergenece speed."
      ],
      "metadata": {
        "id": "DdgAz5gY5s7N"
      }
    },
    {
      "cell_type": "code",
      "source": [
        "# Experiment 3: Model that predicts goal difference with binomial distribution and home advantage\n",
        "LEARNING_RATES = [0.0025,0.005,0.01,0.02,0.04]\n",
        "results = []\n",
        "experiment = 'binomial_goal_difference_model'\n",
        "for lr in LEARNING_RATES:\n",
        "  model_fn, loss_fn = BinomialGoalDifferenceModelAndLoss()\n",
        "  results.append(online_learning_and_online_evaluation(model_fn,\n",
        "                                      lr, \n",
        "                                      experiment,\n",
        "                                      loss_fn))\n",
        "  "
      ],
      "metadata": {
        "id": "ppvOQ1SrrlYs"
      },
      "execution_count": null,
      "outputs": []
    },
    {
      "cell_type": "code",
      "source": [
        "# Experiment 4: Model that predicts goal difference with laplace distribution and home advantage\n",
        "experiment = 'laplace_goal_difference_model'\n",
        "for lr in LEARNING_RATES:\n",
        "  model_fn, loss_fn = LaplaceGoalDifferenceModelAndLoss()\n",
        "  results.append(online_learning_and_online_evaluation(model_fn,\n",
        "                                      lr, \n",
        "                                      experiment,\n",
        "                                      loss_fn))"
      ],
      "metadata": {
        "colab": {
          "base_uri": "https://localhost:8080/"
        },
        "id": "_GlKoVfXa2T2",
        "outputId": "bad0fe8b-f660-4cd4-bd06-37b9625c7a5b"
      },
      "execution_count": 70,
      "outputs": [
        {
          "output_type": "stream",
          "name": "stdout",
          "text": [
            "{'loss': 1.0422505, 'learning_rate': 0.0025, 'experiment': 'laplace_goal_difference_model', 'model': <keras.engine.functional.Functional object at 0x7f831b87fe20>}\n",
            "{'loss': 1.0368804, 'learning_rate': 0.005, 'experiment': 'laplace_goal_difference_model', 'model': <keras.engine.functional.Functional object at 0x7f832b297790>}\n",
            "{'loss': 1.0377587, 'learning_rate': 0.01, 'experiment': 'laplace_goal_difference_model', 'model': <keras.engine.functional.Functional object at 0x7f832a9f9490>}\n",
            "{'loss': 1.0392169, 'learning_rate': 0.02, 'experiment': 'laplace_goal_difference_model', 'model': <keras.engine.functional.Functional object at 0x7f831bd2df40>}\n",
            "{'loss': 1.0445349, 'learning_rate': 0.04, 'experiment': 'laplace_goal_difference_model', 'model': <keras.engine.functional.Functional object at 0x7f831b7405e0>}\n"
          ]
        }
      ]
    },
    {
      "cell_type": "code",
      "source": [
        "# Experiment 5: Model that predicts scored goals with laplace distribution and home advantage\n",
        "experiment = 'laplace_goal_model'\n",
        "for lr in LEARNING_RATES:\n",
        "  model_fn, loss_fn = LaplaceGoalModelAndLoss()\n",
        "  results.append(online_learning_and_online_evaluation(model_fn,\n",
        "                                      lr, \n",
        "                                      experiment,\n",
        "                                      loss_fn))"
      ],
      "metadata": {
        "colab": {
          "base_uri": "https://localhost:8080/"
        },
        "id": "gFGHbzLSRgNH",
        "outputId": "0936d58b-28ea-49d7-faac-a6160c2d930e"
      },
      "execution_count": 71,
      "outputs": [
        {
          "output_type": "stream",
          "name": "stdout",
          "text": [
            "{'loss': 1.0545274, 'learning_rate': 0.0025, 'experiment': 'laplace_goal_model', 'model': <keras.engine.functional.Functional object at 0x7f831bd98c10>}\n",
            "{'loss': 1.0466746, 'learning_rate': 0.005, 'experiment': 'laplace_goal_model', 'model': <keras.engine.functional.Functional object at 0x7f831ba6e850>}\n",
            "{'loss': 1.0402821, 'learning_rate': 0.01, 'experiment': 'laplace_goal_model', 'model': <keras.engine.functional.Functional object at 0x7f831bd7d6d0>}\n",
            "{'loss': 1.0361018, 'learning_rate': 0.02, 'experiment': 'laplace_goal_model', 'model': <keras.engine.functional.Functional object at 0x7f831bf6a370>}\n",
            "{'loss': 1.038636, 'learning_rate': 0.04, 'experiment': 'laplace_goal_model', 'model': <keras.engine.functional.Functional object at 0x7f831b069700>}\n"
          ]
        }
      ]
    },
    {
      "cell_type": "code",
      "source": [
        "# Result\n",
        "filtered_results = [r for r in results if r['experiment']=='laplace_goal_model'] \n",
        "lr = [r['learning_rate'] for r in filtered_results]\n",
        "relative_cross_entropy = [(1-r['loss']/baseline_cross_entropy)*100 for r in filtered_results]\n",
        "relative_cross_entropy_h_a = [(1-r['loss']/baseline_cross_entropy_with_home_advantage)*100 for r in filtered_results]\n",
        "\n",
        "\n",
        "plt.plot(lr, relative_cross_entropy)\n",
        "plt.plot(lr, relative_cross_entropy_h_a)\n",
        "\n",
        "plt.xlabel('Learning rate')\n",
        "plt.ylabel('Relative cross-entropy [%]')"
      ],
      "metadata": {
        "colab": {
          "base_uri": "https://localhost:8080/",
          "height": 297
        },
        "id": "u1GlrNZUymm3",
        "outputId": "1ebf3382-80de-42c8-a6a1-90699801da37"
      },
      "execution_count": 90,
      "outputs": [
        {
          "output_type": "execute_result",
          "data": {
            "text/plain": [
              "Text(0, 0.5, 'Relative cross-entropy [%]')"
            ]
          },
          "metadata": {},
          "execution_count": 90
        },
        {
          "output_type": "display_data",
          "data": {
            "text/plain": [
              "<Figure size 432x288 with 1 Axes>"
            ],
            "image/png": "[encoded data removed]"
          },
          "metadata": {
            "needs_background": "light"
          }
        }
      ]
    },
    {
      "cell_type": "code",
      "source": [
        "# Taking the best model and ranking teams according to scores\n",
        "best_model = [r['model'] for r in results if r['learning_rate']==0.02 and r['experiment'] == 'laplace_goal_model'][0]\n",
        "club_scores = {'club': [], 'score': []}\n",
        "for club, idx in clubs.items():\n",
        "  club_scores['club'].append(club)\n",
        "  club_scores['score'].append(best_model.trainable_weights[0][idx,0].numpy())\n",
        "pd.DataFrame(club_scores).sort_values('score', ascending=False,ignore_index=True)[:10]"
      ],
      "metadata": {
        "colab": {
          "base_uri": "https://localhost:8080/",
          "height": 363
        },
        "id": "wgONAVFnsMcl",
        "outputId": "eca71ebd-b538-4b46-eb71-d6d5f785bf10"
      },
      "execution_count": 79,
      "outputs": [
        {
          "output_type": "execute_result",
          "data": {
            "text/plain": [
              "            club     score\n",
              "0      Palmeiras  0.465485\n",
              "1    Atletico-MG  0.399660\n",
              "2    Flamengo RJ  0.372157\n",
              "3  Internacional  0.312990\n",
              "4         Gremio  0.235316\n",
              "5     Fluminense  0.222988\n",
              "6    Corinthians  0.174411\n",
              "7      Fortaleza  0.159197\n",
              "8      Sao Paulo  0.145478\n",
              "9         Santos  0.112192"
            ],
            "text/html": [
              "\n",
              "  <div id=\"df-6f4dcb49-86e8-44f6-b071-54504aa6c043\">\n",
              "    <div class=\"colab-df-container\">\n",
              "      <div>\n",
              "<style scoped>\n",
              "    .dataframe tbody tr th:only-of-type {\n",
              "        vertical-align: middle;\n",
              "    }\n",
              "\n",
              "    .dataframe tbody tr th {\n",
              "        vertical-align: top;\n",
              "    }\n",
              "\n",
              "    .dataframe thead th {\n",
              "        text-align: right;\n",
              "    }\n",
              "</style>\n",
              "<table border=\"1\" class=\"dataframe\">\n",
              "  <thead>\n",
              "    <tr style=\"text-align: right;\">\n",
              "      <th></th>\n",
              "      <th>club</th>\n",
              "      <th>score</th>\n",
              "    </tr>\n",
              "  </thead>\n",
              "  <tbody>\n",
              "    <tr>\n",
              "      <th>0</th>\n",
              "      <td>Palmeiras</td>\n",
              "      <td>0.465485</td>\n",
              "    </tr>\n",
              "    <tr>\n",
              "      <th>1</th>\n",
              "      <td>Atletico-MG</td>\n",
              "      <td>0.399660</td>\n",
              "    </tr>\n",
              "    <tr>\n",
              "      <th>2</th>\n",
              "      <td>Flamengo RJ</td>\n",
              "      <td>0.372157</td>\n",
              "    </tr>\n",
              "    <tr>\n",
              "      <th>3</th>\n",
              "      <td>Internacional</td>\n",
              "      <td>0.312990</td>\n",
              "    </tr>\n",
              "    <tr>\n",
              "      <th>4</th>\n",
              "      <td>Gremio</td>\n",
              "      <td>0.235316</td>\n",
              "    </tr>\n",
              "    <tr>\n",
              "      <th>5</th>\n",
              "      <td>Fluminense</td>\n",
              "      <td>0.222988</td>\n",
              "    </tr>\n",
              "    <tr>\n",
              "      <th>6</th>\n",
              "      <td>Corinthians</td>\n",
              "      <td>0.174411</td>\n",
              "    </tr>\n",
              "    <tr>\n",
              "      <th>7</th>\n",
              "      <td>Fortaleza</td>\n",
              "      <td>0.159197</td>\n",
              "    </tr>\n",
              "    <tr>\n",
              "      <th>8</th>\n",
              "      <td>Sao Paulo</td>\n",
              "      <td>0.145478</td>\n",
              "    </tr>\n",
              "    <tr>\n",
              "      <th>9</th>\n",
              "      <td>Santos</td>\n",
              "      <td>0.112192</td>\n",
              "    </tr>\n",
              "  </tbody>\n",
              "</table>\n",
              "</div>\n",
              "      <button class=\"colab-df-convert\" onclick=\"convertToInteractive('df-6f4dcb49-86e8-44f6-b071-54504aa6c043')\"\n",
              "              title=\"Convert this dataframe to an interactive table.\"\n",
              "              style=\"display:none;\">\n",
              "        \n",
              "  <svg xmlns=\"http://www.w3.org/2000/svg\" height=\"24px\"viewBox=\"0 0 24 24\"\n",
              "       width=\"24px\">\n",
              "    <path d=\"M0 0h24v24H0V0z\" fill=\"none\"/>\n",
              "    <path d=\"M18.56 5.44l.94 2.06.94-2.06 2.06-.94-2.06-.94-.94-2.06-.94 2.06-2.06.94zm-11 1L8.5 8.5l.94-2.06 2.06-.94-2.06-.94L8.5 2.5l-.94 2.06-2.06.94zm10 10l.94 2.06.94-2.06 2.06-.94-2.06-.94-.94-2.06-.94 2.06-2.06.94z\"/><path d=\"M17.41 7.96l-1.37-1.37c-.4-.4-.92-.59-1.43-.59-.52 0-1.04.2-1.43.59L10.3 9.45l-7.72 7.72c-.78.78-.78 2.05 0 2.83L4 21.41c.39.39.9.59 1.41.59.51 0 1.02-.2 1.41-.59l7.78-7.78 2.81-2.81c.8-.78.8-2.07 0-2.86zM5.41 20L4 18.59l7.72-7.72 1.47 1.35L5.41 20z\"/>\n",
              "  </svg>\n",
              "      </button>\n",
              "      \n",
              "  <style>\n",
              "    .colab-df-container {\n",
              "      display:flex;\n",
              "      flex-wrap:wrap;\n",
              "      gap: 12px;\n",
              "    }\n",
              "\n",
              "    .colab-df-convert {\n",
              "      background-color: #E8F0FE;\n",
              "      border: none;\n",
              "      border-radius: 50%;\n",
              "      cursor: pointer;\n",
              "      display: none;\n",
              "      fill: #1967D2;\n",
              "      height: 32px;\n",
              "      padding: 0 0 0 0;\n",
              "      width: 32px;\n",
              "    }\n",
              "\n",
              "    .colab-df-convert:hover {\n",
              "      background-color: #E2EBFA;\n",
              "      box-shadow: 0px 1px 2px rgba(60, 64, 67, 0.3), 0px 1px 3px 1px rgba(60, 64, 67, 0.15);\n",
              "      fill: #174EA6;\n",
              "    }\n",
              "\n",
              "    [theme=dark] .colab-df-convert {\n",
              "      background-color: #3B4455;\n",
              "      fill: #D2E3FC;\n",
              "    }\n",
              "\n",
              "    [theme=dark] .colab-df-convert:hover {\n",
              "      background-color: #434B5C;\n",
              "      box-shadow: 0px 1px 3px 1px rgba(0, 0, 0, 0.15);\n",
              "      filter: drop-shadow(0px 1px 2px rgba(0, 0, 0, 0.3));\n",
              "      fill: #FFFFFF;\n",
              "    }\n",
              "  </style>\n",
              "\n",
              "      <script>\n",
              "        const buttonEl =\n",
              "          document.querySelector('#df-6f4dcb49-86e8-44f6-b071-54504aa6c043 button.colab-df-convert');\n",
              "        buttonEl.style.display =\n",
              "          google.colab.kernel.accessAllowed ? 'block' : 'none';\n",
              "\n",
              "        async function convertToInteractive(key) {\n",
              "          const element = document.querySelector('#df-6f4dcb49-86e8-44f6-b071-54504aa6c043');\n",
              "          const dataTable =\n",
              "            await google.colab.kernel.invokeFunction('convertToInteractive',\n",
              "                                                     [key], {});\n",
              "          if (!dataTable) return;\n",
              "\n",
              "          const docLinkHtml = 'Like what you see? Visit the ' +\n",
              "            '<a target=\"_blank\" href=https://colab.research.google.com/notebooks/data_table.ipynb>data table notebook</a>'\n",
              "            + ' to learn more about interactive tables.';\n",
              "          element.innerHTML = '';\n",
              "          dataTable['output_type'] = 'display_data';\n",
              "          await google.colab.output.renderOutput(dataTable, element);\n",
              "          const docLink = document.createElement('div');\n",
              "          docLink.innerHTML = docLinkHtml;\n",
              "          element.appendChild(docLink);\n",
              "        }\n",
              "      </script>\n",
              "    </div>\n",
              "  </div>\n",
              "  "
            ]
          },
          "metadata": {},
          "execution_count": 79
        }
      ]
    },
    {
      "cell_type": "code",
      "source": [
        "https://footballdatabase.com/ranking/brazil/1"
      ],
      "metadata": {
        "id": "YfWwpPHRuIIg"
      },
      "execution_count": null,
      "outputs": []
    },
    {
      "cell_type": "markdown",
      "source": [
        "Best clubs in Brazil (Feb-2023) for comparison according to:\n",
        "\n",
        "https://footballdatabase.com/ranking/brazil/1\n",
        "\n",
        "\\begin{array}{cc}\n",
        "Palmeiras&1808\\\\\n",
        "Flamengo&1747\\\\\n",
        "Internacional&1745\\\\\n",
        "Fluminense&1712\\\\\n",
        "Atletico-MG&1693\\\\\n",
        "Atletico-PR&1639\\\\\n",
        "Corinthians&1631\\\\\n",
        "Sao Paulo&1627\\\\\n",
        "America-MG&1606\\\\\n",
        "Gremio&1599\\\\\n",
        "\\end{array}"
      ],
      "metadata": {
        "id": "5-FDgVOMuJQ4"
      }
    },
    {
      "cell_type": "code",
      "source": [
        "# Best team playing at home vs 10-th ranked\n",
        "model_output = best_model({'home_club': clubs['Palmeiras'], 'away_club': clubs['Santos']})\n",
        "print(f\"Home win/draw/lose probability: {tf.squeeze(model_output['probs'])}\")\n",
        "print(f\"Home goals probability (0 to 6 goals): {tf.squeeze(model_output['probs_home'])}\")\n"
      ],
      "metadata": {
        "colab": {
          "base_uri": "https://localhost:8080/"
        },
        "id": "mAsaBs1bgF8b",
        "outputId": "58db0203-d1f6-4995-c883-b3db4019992e"
      },
      "execution_count": 86,
      "outputs": [
        {
          "output_type": "stream",
          "name": "stdout",
          "text": [
            "Home win/draw/lose probability: [0.61814433 0.21954955 0.16230619]\n",
            "Home goals probability: [0.14550768 0.3267527  0.29794723 0.1326802  0.05908439 0.02631112\n",
            " 0.01171672]\n"
          ]
        }
      ]
    },
    {
      "cell_type": "markdown",
      "source": [
        "# Analysis and next steps\n",
        "\n",
        "We showed how to estimate team strengths/standings in the Brazilian soccer league by observing ~10 years of played games.\n",
        "\n",
        "The model used is an online model that can adapt to teams getting better and worse overtime. The result of the model is that for any given game, it can predict the number of goals per team as well as win/draw lose probability better than chance.\n",
        "\n",
        "As a baseline for comparing the performance of our model, we had 2 baseline performances we wanted to beat:\n",
        "\n",
        "Baseline 1: a blind model that does not know who is playing and who is the home/away team. The model only knows the base win/draw/lose ratios in the training dataset.\n",
        "\n",
        "Baseline 2: a blind model that does not know who is playing, but knows the home advantage information. The model only knows the home team win/draw/lose ratios in the training dataset.\n",
        "\n",
        "Our final model betas the first baseline by ~5%  and the second baseline by ~3% in terms of cross-entropy of the prediction of the match result. We further validated the model, by comparing its club ranking with rankings found on the internet (they match well).\n",
        "\n",
        "The main features used in the model are the knowledge of who is the home team and which teams are playing. The team standings adjusted by home advantage are found by trying to predict how many goals they have scored in past matches using a discrete laplace distrbution of goals scored.\n",
        "\n",
        "To improve the model, we can:\n",
        "\n",
        "- Use more data (continental matches, cups and regional matches)\n",
        "- Separate team strength by offence/defense (2 embeddings instead of 1)\n",
        "- Use more features (xG, number of injured/suspended players...)\n",
        "\n",
        "To better evaluate the model, we can:\n",
        "- Use it for betting purposes, comparing to live odds..."
      ],
      "metadata": {
        "id": "iqZIKfsh7la5"
      }
    }
  ]
}